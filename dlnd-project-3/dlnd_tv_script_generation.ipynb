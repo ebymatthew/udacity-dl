{
 "cells": [
  {
   "cell_type": "markdown",
   "metadata": {
    "deletable": true,
    "editable": true
   },
   "source": [
    "# TV Script Generation\n",
    "In this project, you'll generate your own [Simpsons](https://en.wikipedia.org/wiki/The_Simpsons) TV scripts using RNNs.  You'll be using part of the [Simpsons dataset](https://www.kaggle.com/wcukierski/the-simpsons-by-the-data) of scripts from 27 seasons.  The Neural Network you'll build will generate a new TV script for a scene at [Moe's Tavern](https://simpsonswiki.com/wiki/Moe's_Tavern).\n",
    "## Get the Data\n",
    "The data is already provided for you.  You'll be using a subset of the original dataset.  It consists of only the scenes in Moe's Tavern.  This doesn't include other versions of the tavern, like \"Moe's Cavern\", \"Flaming Moe's\", \"Uncle Moe's Family Feed-Bag\", etc.."
   ]
  },
  {
   "cell_type": "code",
   "execution_count": 1,
   "metadata": {
    "collapsed": false,
    "deletable": true,
    "editable": true
   },
   "outputs": [],
   "source": [
    "\"\"\"\n",
    "DON'T MODIFY ANYTHING IN THIS CELL\n",
    "\"\"\"\n",
    "import helper\n",
    "\n",
    "data_dir = './data/simpsons/moes_tavern_lines.txt'\n",
    "text = helper.load_data(data_dir)\n",
    "# Ignore notice, since we don't use it for analysing the data\n",
    "text = text[81:]"
   ]
  },
  {
   "cell_type": "markdown",
   "metadata": {
    "deletable": true,
    "editable": true
   },
   "source": [
    "## Explore the Data\n",
    "Play around with `view_sentence_range` to view different parts of the data."
   ]
  },
  {
   "cell_type": "code",
   "execution_count": 2,
   "metadata": {
    "collapsed": false,
    "deletable": true,
    "editable": true
   },
   "outputs": [
    {
     "name": "stdout",
     "output_type": "stream",
     "text": [
      "Dataset Stats\n",
      "Roughly the number of unique words: 11492\n",
      "Number of scenes: 262\n",
      "Average number of sentences in each scene: 15.248091603053435\n",
      "Number of lines: 4257\n",
      "Average number of words in each line: 11.50434578341555\n",
      "\n",
      "The sentences 0 to 10:\n",
      "Moe_Szyslak: (INTO PHONE) Moe's Tavern. Where the elite meet to drink.\n",
      "Bart_Simpson: Eh, yeah, hello, is Mike there? Last name, Rotch.\n",
      "Moe_Szyslak: (INTO PHONE) Hold on, I'll check. (TO BARFLIES) Mike Rotch. Mike Rotch. Hey, has anybody seen Mike Rotch, lately?\n",
      "Moe_Szyslak: (INTO PHONE) Listen you little puke. One of these days I'm gonna catch you, and I'm gonna carve my name on your back with an ice pick.\n",
      "Moe_Szyslak: What's the matter Homer? You're not your normal effervescent self.\n",
      "Homer_Simpson: I got my problems, Moe. Give me another one.\n",
      "Moe_Szyslak: Homer, hey, you should not drink to forget your problems.\n",
      "Barney_Gumble: Yeah, you should only drink to enhance your social skills.\n",
      "\n",
      "\n"
     ]
    }
   ],
   "source": [
    "view_sentence_range = (0, 10)\n",
    "\n",
    "\"\"\"\n",
    "DON'T MODIFY ANYTHING IN THIS CELL\n",
    "\"\"\"\n",
    "import numpy as np\n",
    "\n",
    "print('Dataset Stats')\n",
    "print('Roughly the number of unique words: {}'.format(len({word: None for word in text.split()})))\n",
    "scenes = text.split('\\n\\n')\n",
    "print('Number of scenes: {}'.format(len(scenes)))\n",
    "sentence_count_scene = [scene.count('\\n') for scene in scenes]\n",
    "print('Average number of sentences in each scene: {}'.format(np.average(sentence_count_scene)))\n",
    "\n",
    "sentences = [sentence for scene in scenes for sentence in scene.split('\\n')]\n",
    "print('Number of lines: {}'.format(len(sentences)))\n",
    "word_count_sentence = [len(sentence.split()) for sentence in sentences]\n",
    "print('Average number of words in each line: {}'.format(np.average(word_count_sentence)))\n",
    "\n",
    "print()\n",
    "print('The sentences {} to {}:'.format(*view_sentence_range))\n",
    "print('\\n'.join(text.split('\\n')[view_sentence_range[0]:view_sentence_range[1]]))"
   ]
  },
  {
   "cell_type": "markdown",
   "metadata": {
    "deletable": true,
    "editable": true
   },
   "source": [
    "## Implement Preprocessing Functions\n",
    "The first thing to do to any dataset is preprocessing.  Implement the following preprocessing functions below:\n",
    "- Lookup Table\n",
    "- Tokenize Punctuation\n",
    "\n",
    "### Lookup Table\n",
    "To create a word embedding, you first need to transform the words to ids.  In this function, create two dictionaries:\n",
    "- Dictionary to go from the words to an id, we'll call `vocab_to_int`\n",
    "- Dictionary to go from the id to word, we'll call `int_to_vocab`\n",
    "\n",
    "Return these dictionaries in the following tuple `(vocab_to_int, int_to_vocab)`"
   ]
  },
  {
   "cell_type": "code",
   "execution_count": 3,
   "metadata": {
    "collapsed": false,
    "deletable": true,
    "editable": true
   },
   "outputs": [
    {
     "name": "stdout",
     "output_type": "stream",
     "text": [
      "Tests Passed\n"
     ]
    }
   ],
   "source": [
    "import numpy as np\n",
    "import problem_unittests as tests\n",
    "\n",
    "def create_lookup_tables(text):\n",
    "    \"\"\"\n",
    "    Create lookup tables for vocabulary\n",
    "    :param text: The text of tv scripts split into words\n",
    "    :return: A tuple of dicts (vocab_to_int, int_to_vocab)\n",
    "    \"\"\"\n",
    "    # TODO: Implement Function\n",
    "    vocab_to_int = {y: x for x, y in enumerate(frozenset(text))}\n",
    "    int_to_vocab = {y: x  for x, y in vocab_to_int.items()}\n",
    "    return vocab_to_int, int_to_vocab\n",
    "\n",
    "\n",
    "\"\"\"\n",
    "DON'T MODIFY ANYTHING IN THIS CELL THAT IS BELOW THIS LINE\n",
    "\"\"\"\n",
    "tests.test_create_lookup_tables(create_lookup_tables)"
   ]
  },
  {
   "cell_type": "markdown",
   "metadata": {
    "deletable": true,
    "editable": true
   },
   "source": [
    "### Tokenize Punctuation\n",
    "We'll be splitting the script into a word array using spaces as delimiters.  However, punctuations like periods and exclamation marks make it hard for the neural network to distinguish between the word \"bye\" and \"bye!\".\n",
    "\n",
    "Implement the function `token_lookup` to return a dict that will be used to tokenize symbols like \"!\" into \"||Exclamation_Mark||\".  Create a dictionary for the following symbols where the symbol is the key and value is the token:\n",
    "- Period ( . )\n",
    "- Comma ( , )\n",
    "- Quotation Mark ( \" )\n",
    "- Semicolon ( ; )\n",
    "- Exclamation mark ( ! )\n",
    "- Question mark ( ? )\n",
    "- Left Parentheses ( ( )\n",
    "- Right Parentheses ( ) )\n",
    "- Dash ( -- )\n",
    "- Return ( \\n )\n",
    "\n",
    "This dictionary will be used to token the symbols and add the delimiter (space) around it.  This separates the symbols as it's own word, making it easier for the neural network to predict on the next word. Make sure you don't use a token that could be confused as a word. Instead of using the token \"dash\", try using something like \"||dash||\"."
   ]
  },
  {
   "cell_type": "code",
   "execution_count": 4,
   "metadata": {
    "collapsed": false,
    "deletable": true,
    "editable": true
   },
   "outputs": [
    {
     "name": "stdout",
     "output_type": "stream",
     "text": [
      "Tests Passed\n"
     ]
    }
   ],
   "source": [
    "def token_lookup():\n",
    "    \"\"\"\n",
    "    Generate a dict to turn punctuation into a token.\n",
    "    :return: Tokenize dictionary where the key is the punctuation and the value is the token\n",
    "    \"\"\"\n",
    "    # TODO: Implement Function\n",
    "    return {\n",
    "        \".\": \"||Period||\", \n",
    "        \",\": \"||Comma||\", \n",
    "        '\"': \"||Quotation_Mark||\", \n",
    "        \";\": \"||Semicolon||\", \n",
    "        \"!\": \"||Exclamation_Mark||\", \n",
    "        \"?\": \"||Question_Mark||\", \n",
    "        \"(\": \"||Left_Parentheses||\", \n",
    "        \")\": \"||Right_Parentheses||\", \n",
    "        \"--\": \"||Dash||\", \n",
    "        \"\\n\": \"||Return||\", \n",
    "    }\n",
    "\n",
    "\"\"\"\n",
    "DON'T MODIFY ANYTHING IN THIS CELL THAT IS BELOW THIS LINE\n",
    "\"\"\"\n",
    "tests.test_tokenize(token_lookup)"
   ]
  },
  {
   "cell_type": "markdown",
   "metadata": {
    "deletable": true,
    "editable": true
   },
   "source": [
    "## Preprocess all the data and save it\n",
    "Running the code cell below will preprocess all the data and save it to file."
   ]
  },
  {
   "cell_type": "code",
   "execution_count": 5,
   "metadata": {
    "collapsed": false,
    "deletable": true,
    "editable": true
   },
   "outputs": [],
   "source": [
    "\"\"\"\n",
    "DON'T MODIFY ANYTHING IN THIS CELL\n",
    "\"\"\"\n",
    "# Preprocess Training, Validation, and Testing Data\n",
    "helper.preprocess_and_save_data(data_dir, token_lookup, create_lookup_tables)"
   ]
  },
  {
   "cell_type": "markdown",
   "metadata": {
    "deletable": true,
    "editable": true
   },
   "source": [
    "# Check Point\n",
    "This is your first checkpoint. If you ever decide to come back to this notebook or have to restart the notebook, you can start from here. The preprocessed data has been saved to disk."
   ]
  },
  {
   "cell_type": "code",
   "execution_count": 6,
   "metadata": {
    "collapsed": false,
    "deletable": true,
    "editable": true
   },
   "outputs": [],
   "source": [
    "\"\"\"\n",
    "DON'T MODIFY ANYTHING IN THIS CELL\n",
    "\"\"\"\n",
    "import helper\n",
    "import numpy as np\n",
    "import problem_unittests as tests\n",
    "\n",
    "int_text, vocab_to_int, int_to_vocab, token_dict = helper.load_preprocess()"
   ]
  },
  {
   "cell_type": "markdown",
   "metadata": {
    "deletable": true,
    "editable": true
   },
   "source": [
    "## Build the Neural Network\n",
    "You'll build the components necessary to build a RNN by implementing the following functions below:\n",
    "- get_inputs\n",
    "- get_init_cell\n",
    "- get_embed\n",
    "- build_rnn\n",
    "- build_nn\n",
    "- get_batches\n",
    "\n",
    "### Check the Version of TensorFlow and Access to GPU"
   ]
  },
  {
   "cell_type": "code",
   "execution_count": 7,
   "metadata": {
    "collapsed": false,
    "deletable": true,
    "editable": true
   },
   "outputs": [
    {
     "name": "stdout",
     "output_type": "stream",
     "text": [
      "TensorFlow Version: 1.0.0\n",
      "Default GPU Device: /gpu:0\n"
     ]
    }
   ],
   "source": [
    "\"\"\"\n",
    "DON'T MODIFY ANYTHING IN THIS CELL\n",
    "\"\"\"\n",
    "from distutils.version import LooseVersion\n",
    "import warnings\n",
    "import tensorflow as tf\n",
    "\n",
    "# Check TensorFlow Version\n",
    "assert LooseVersion(tf.__version__) >= LooseVersion('1.0'), 'Please use TensorFlow version 1.0 or newer'\n",
    "print('TensorFlow Version: {}'.format(tf.__version__))\n",
    "\n",
    "# Check for a GPU\n",
    "if not tf.test.gpu_device_name():\n",
    "    warnings.warn('No GPU found. Please use a GPU to train your neural network.')\n",
    "else:\n",
    "    print('Default GPU Device: {}'.format(tf.test.gpu_device_name()))"
   ]
  },
  {
   "cell_type": "markdown",
   "metadata": {
    "deletable": true,
    "editable": true
   },
   "source": [
    "### Input\n",
    "Implement the `get_inputs()` function to create TF Placeholders for the Neural Network.  It should create the following placeholders:\n",
    "- Input text placeholder named \"input\" using the [TF Placeholder](https://www.tensorflow.org/api_docs/python/tf/placeholder) `name` parameter.\n",
    "- Targets placeholder\n",
    "- Learning Rate placeholder\n",
    "\n",
    "Return the placeholders in the following tuple `(Input, Targets, LearningRate)`"
   ]
  },
  {
   "cell_type": "code",
   "execution_count": 8,
   "metadata": {
    "collapsed": false,
    "deletable": true,
    "editable": true
   },
   "outputs": [
    {
     "name": "stdout",
     "output_type": "stream",
     "text": [
      "Tests Passed\n"
     ]
    }
   ],
   "source": [
    "def get_inputs():\n",
    "    \"\"\"\n",
    "    Create TF Placeholders for input, targets, and learning rate.\n",
    "    :return: Tuple (input, targets, learning rate)\n",
    "    \"\"\"\n",
    "    # TODO: Implement Function\n",
    "    input = tf.placeholder(tf.int32, shape=(None, None), name=\"input\")\n",
    "    targets = tf.placeholder(tf.int32, shape=(None, None), name=\"targets\")\n",
    "    learning_rate = tf.placeholder(tf.float32, name=\"learning_rate\")\n",
    "    return input, targets, learning_rate\n",
    "\n",
    "\n",
    "\"\"\"\n",
    "DON'T MODIFY ANYTHING IN THIS CELL THAT IS BELOW THIS LINE\n",
    "\"\"\"\n",
    "tests.test_get_inputs(get_inputs)"
   ]
  },
  {
   "cell_type": "markdown",
   "metadata": {
    "deletable": true,
    "editable": true
   },
   "source": [
    "### Build RNN Cell and Initialize\n",
    "Stack one or more [`BasicLSTMCells`](https://www.tensorflow.org/api_docs/python/tf/contrib/rnn/BasicLSTMCell) in a [`MultiRNNCell`](https://www.tensorflow.org/api_docs/python/tf/contrib/rnn/MultiRNNCell).\n",
    "- The Rnn size should be set using `rnn_size`\n",
    "- Initalize Cell State using the MultiRNNCell's [`zero_state()`](https://www.tensorflow.org/api_docs/python/tf/contrib/rnn/MultiRNNCell#zero_state) function\n",
    "    - Apply the name \"initial_state\" to the initial state using [`tf.identity()`](https://www.tensorflow.org/api_docs/python/tf/identity)\n",
    "\n",
    "Return the cell and initial state in the following tuple `(Cell, InitialState)`"
   ]
  },
  {
   "cell_type": "code",
   "execution_count": 9,
   "metadata": {
    "collapsed": false,
    "deletable": true,
    "editable": true
   },
   "outputs": [
    {
     "name": "stdout",
     "output_type": "stream",
     "text": [
      "Tests Passed\n"
     ]
    }
   ],
   "source": [
    "def get_init_cell(batch_size, rnn_size):\n",
    "    \"\"\"\n",
    "    Create an RNN Cell and initialize it.\n",
    "    :param batch_size: Size of batches\n",
    "    :param rnn_size: Size of RNNs\n",
    "    :return: Tuple (cell, initialize state)\n",
    "    \"\"\"\n",
    "    \n",
    "    keep_prob = 0.5\n",
    "    #drop = \n",
    "    \n",
    "    #lstm_cells = [tf.contrib.rnn.DropoutWrapper(tf.contrib.rnn.BasicLSTMCell(rnn_size), output_keep_prob=keep_prob) for x in range(0,rnn_size)]\n",
    "    lstm = tf.contrib.rnn.BasicLSTMCell(rnn_size)\n",
    "    drop = tf.contrib.rnn.DropoutWrapper(tf.contrib.rnn.BasicLSTMCell(rnn_size), output_keep_prob=keep_prob)\n",
    "\n",
    "    multi_rnn_cell = tf.contrib.rnn.MultiRNNCell([drop] * 2)\n",
    "    initial_state = tf.identity(multi_rnn_cell.zero_state(batch_size, tf.float32), name=\"initial_state\")\n",
    "    \n",
    "    # TODO: Implement Function\n",
    "    return multi_rnn_cell, initial_state\n",
    "\n",
    "\n",
    "\"\"\"\n",
    "DON'T MODIFY ANYTHING IN THIS CELL THAT IS BELOW THIS LINE\n",
    "\"\"\"\n",
    "tests.test_get_init_cell(get_init_cell)"
   ]
  },
  {
   "cell_type": "markdown",
   "metadata": {
    "deletable": true,
    "editable": true
   },
   "source": [
    "### Word Embedding\n",
    "Apply embedding to `input_data` using TensorFlow.  Return the embedded sequence."
   ]
  },
  {
   "cell_type": "code",
   "execution_count": 10,
   "metadata": {
    "collapsed": false,
    "deletable": true,
    "editable": true
   },
   "outputs": [
    {
     "name": "stdout",
     "output_type": "stream",
     "text": [
      "Tensor(\"Variable/read:0\", shape=(27, 256), dtype=float32)\n",
      "Tensor(\"Placeholder:0\", shape=(50, 5), dtype=int32)\n",
      "Tests Passed\n"
     ]
    }
   ],
   "source": [
    "def get_embed(input_data, vocab_size, embed_dim):\n",
    "    \"\"\"\n",
    "    Create embedding for <input_data>.\n",
    "    :param input_data: TF placeholder for text input.\n",
    "    :param vocab_size: Number of words in vocabulary.\n",
    "    :param embed_dim: Number of embedding dimensions\n",
    "    :return: Embedded input.\n",
    "    \"\"\"\n",
    "    # TODO: Implement Function\n",
    "    embedding = tf.Variable(tf.random_uniform((vocab_size, embed_dim), -1, 1))\n",
    "    print(embedding)\n",
    "    print(input_data)\n",
    "    embed = tf.nn.embedding_lookup(embedding, input_data)\n",
    "    return embed\n",
    "\n",
    "\n",
    "\"\"\"\n",
    "DON'T MODIFY ANYTHING IN THIS CELL THAT IS BELOW THIS LINE\n",
    "\"\"\"\n",
    "tests.test_get_embed(get_embed)"
   ]
  },
  {
   "cell_type": "markdown",
   "metadata": {
    "deletable": true,
    "editable": true
   },
   "source": [
    "### Build RNN\n",
    "You created a RNN Cell in the `get_init_cell()` function.  Time to use the cell to create a RNN.\n",
    "- Build the RNN using the [`tf.nn.dynamic_rnn()`](https://www.tensorflow.org/api_docs/python/tf/nn/dynamic_rnn)\n",
    " - Apply the name \"final_state\" to the final state using [`tf.identity()`](https://www.tensorflow.org/api_docs/python/tf/identity)\n",
    "\n",
    "Return the outputs and final_state state in the following tuple `(Outputs, FinalState)` "
   ]
  },
  {
   "cell_type": "code",
   "execution_count": 11,
   "metadata": {
    "collapsed": false,
    "deletable": true,
    "editable": true
   },
   "outputs": [
    {
     "name": "stdout",
     "output_type": "stream",
     "text": [
      "Tests Passed\n"
     ]
    }
   ],
   "source": [
    "def build_rnn(cell, inputs):\n",
    "    \"\"\"\n",
    "    Create a RNN using a RNN Cell\n",
    "    :param cell: RNN Cell\n",
    "    :param inputs: Input text data\n",
    "    :return: Tuple (Outputs, Final State)\n",
    "    \"\"\"\n",
    "    # TODO: Implement Function\n",
    "    outputs, state = tf.nn.dynamic_rnn(cell, inputs, dtype=tf.float32)\n",
    "    final_state = tf.identity(state, name=\"final_state\")\n",
    "    return outputs, final_state\n",
    "\n",
    "\n",
    "\"\"\"\n",
    "DON'T MODIFY ANYTHING IN THIS CELL THAT IS BELOW THIS LINE\n",
    "\"\"\"\n",
    "tests.test_build_rnn(build_rnn)"
   ]
  },
  {
   "cell_type": "markdown",
   "metadata": {
    "deletable": true,
    "editable": true
   },
   "source": [
    "### Build the Neural Network\n",
    "Apply the functions you implemented above to:\n",
    "- Apply embedding to `input_data` using your `get_embed(input_data, vocab_size, embed_dim)` function.\n",
    "- Build RNN using `cell` and your `build_rnn(cell, inputs)` function.\n",
    "- Apply a fully connected layer with a linear activation and `vocab_size` as the number of outputs.\n",
    "\n",
    "Return the logits and final state in the following tuple (Logits, FinalState) "
   ]
  },
  {
   "cell_type": "code",
   "execution_count": 12,
   "metadata": {
    "collapsed": false,
    "deletable": true,
    "editable": true
   },
   "outputs": [
    {
     "name": "stdout",
     "output_type": "stream",
     "text": [
      "Tensor(\"Variable/read:0\", shape=(27, 300), dtype=float32)\n",
      "Tensor(\"Placeholder:0\", shape=(128, 5), dtype=int32)\n",
      "Tests Passed\n"
     ]
    }
   ],
   "source": [
    "def build_nn(cell, rnn_size, input_data, vocab_size, embed_dim):\n",
    "    \"\"\"\n",
    "    Build part of the neural network\n",
    "    :param cell: RNN cell\n",
    "    :param rnn_size: Size of rnns\n",
    "    :param input_data: Input data\n",
    "    :param vocab_size: Vocabulary size\n",
    "    :param embed_dim: Number of embedding dimensions\n",
    "    :return: Tuple (Logits, FinalState)\n",
    "    \"\"\"\n",
    "    # TODO: Implement Function\n",
    "    embed = get_embed(input_data, vocab_size, embed_dim)\n",
    "    outputs, final_state = build_rnn(cell, embed)\n",
    "    logits = tf.contrib.layers.fully_connected(\n",
    "        outputs, \n",
    "        vocab_size, \n",
    "        biases_initializer=tf.zeros_initializer(), \n",
    "        weights_initializer=tf.truncated_normal_initializer(stddev = 0.01) \n",
    "    )\n",
    "    logits2 = tf.contrib.layers.fully_connected(\n",
    "        logits, \n",
    "        vocab_size, \n",
    "        activation_fn=None,\n",
    "        biases_initializer=tf.zeros_initializer(), \n",
    "        weights_initializer=tf.truncated_normal_initializer(stddev = 0.01) \n",
    "    )\n",
    "    \n",
    "    return logits2, final_state\n",
    "\n",
    "\n",
    "\"\"\"\n",
    "DON'T MODIFY ANYTHING IN THIS CELL THAT IS BELOW THIS LINE\n",
    "\"\"\"\n",
    "tests.test_build_nn(build_nn)"
   ]
  },
  {
   "cell_type": "markdown",
   "metadata": {
    "deletable": true,
    "editable": true
   },
   "source": [
    "### Batches\n",
    "Implement `get_batches` to create batches of input and targets using `int_text`.  The batches should be a Numpy array with the shape `(number of batches, 2, batch size, sequence length)`. Each batch contains two elements:\n",
    "- The first element is a single batch of **input** with the shape `[batch size, sequence length]`\n",
    "- The second element is a single batch of **targets** with the shape `[batch size, sequence length]`\n",
    "\n",
    "If you can't fill the last batch with enough data, drop the last batch.\n",
    "\n",
    "For exmple, `get_batches([1, 2, 3, 4, 5, 6, 7, 8, 9, 10, 11, 12, 13, 14, 15], 2, 3)` would return a Numpy array of the following:\n",
    "```\n",
    "[\n",
    "  # First Batch\n",
    "  [\n",
    "    # Batch of Input\n",
    "    [[ 1  2  3], [ 7  8  9]],\n",
    "    # Batch of targets\n",
    "    [[ 2  3  4], [ 8  9 10]]\n",
    "  ],\n",
    " \n",
    "  # Second Batch\n",
    "  [\n",
    "    # Batch of Input\n",
    "    [[ 4  5  6], [10 11 12]],\n",
    "    # Batch of targets\n",
    "    [[ 5  6  7], [11 12 13]]\n",
    "  ]\n",
    "]\n",
    "```"
   ]
  },
  {
   "cell_type": "code",
   "execution_count": 13,
   "metadata": {
    "collapsed": false,
    "deletable": true,
    "editable": true
   },
   "outputs": [
    {
     "data": {
      "text/plain": [
       "array([[1],\n",
       "       [2],\n",
       "       [3],\n",
       "       [4]])"
      ]
     },
     "execution_count": 13,
     "metadata": {},
     "output_type": "execute_result"
    }
   ],
   "source": [
    "np.asarray([1, 2, 3, 4]).reshape((4,-1))"
   ]
  },
  {
   "cell_type": "code",
   "execution_count": 14,
   "metadata": {
    "collapsed": false,
    "deletable": true,
    "editable": true
   },
   "outputs": [
    {
     "name": "stdout",
     "output_type": "stream",
     "text": [
      "Tests Passed\n"
     ]
    }
   ],
   "source": [
    "def get_batches(int_text, batch_size, seq_length):\n",
    "    \"\"\"\n",
    "    Return batches of input and target\n",
    "    :param int_text: Text with the words replaced by their ids\n",
    "    :param batch_size: The size of batch\n",
    "    :param seq_length: The length of sequence\n",
    "    :return: Batches as a Numpy array\n",
    "    \"\"\"\n",
    "    total_size = len(int_text)\n",
    "    possible_sequences = np.floor_divide(total_size-1, seq_length)\n",
    "    \n",
    "    batches = np.floor_divide(possible_sequences, batch_size)\n",
    "    keep_size = batches * batch_size * seq_length\n",
    "    \n",
    "    # create array of inputs and reshape based on sequence lengths\n",
    "    a = np.asarray(int_text[:keep_size]).reshape((-1, seq_length*batches))\n",
    "    # split input sequences into batches and stack\n",
    "    ap = np.stack(np.hsplit(a,batches))\n",
    "    \n",
    "    # create targets of inputs and reshape based on sequence lengths\n",
    "    b = np.asarray(int_text[1:keep_size+1]).reshape((-1, seq_length*batches))\n",
    "    # split target sequences into batches and stack\n",
    "    bp = np.stack(np.hsplit(b,batches))\n",
    "    \n",
    "    # stack inputs with targets into batches\n",
    "    return np.stack([ap,bp], axis=1)\n",
    "\n",
    "\n",
    "#get_batches([1, 2, 3, 4, 5, 6, 7, 8, 9, 10, 11, 12, 13, 14, 15], 2, 3)\n",
    "#raise \"\"\n",
    "\n",
    "\n",
    "\"\"\"\n",
    "DON'T MODIFY ANYTHING IN THIS CELL THAT IS BELOW THIS LINE\n",
    "\"\"\"\n",
    "tests.test_get_batches(get_batches)"
   ]
  },
  {
   "cell_type": "markdown",
   "metadata": {
    "deletable": true,
    "editable": true
   },
   "source": [
    "## Neural Network Training\n",
    "### Hyperparameters\n",
    "Tune the following parameters:\n",
    "\n",
    "- Set `num_epochs` to the number of epochs.\n",
    "- Set `batch_size` to the batch size.\n",
    "- Set `rnn_size` to the size of the RNNs.\n",
    "- Set `embed_dim` to the size of the embedding.\n",
    "- Set `seq_length` to the length of sequence.\n",
    "- Set `learning_rate` to the learning rate.\n",
    "- Set `show_every_n_batches` to the number of batches the neural network should print progress."
   ]
  },
  {
   "cell_type": "code",
   "execution_count": 21,
   "metadata": {
    "collapsed": true,
    "deletable": true,
    "editable": true
   },
   "outputs": [],
   "source": [
    "# Number of Epochs\n",
    "num_epochs = 75\n",
    "# Batch Size\n",
    "batch_size = 128\n",
    "# RNN Size\n",
    "rnn_size = 512\n",
    "# Embedding Dimension Size\n",
    "embed_dim = 128\n",
    "# Sequence Length\n",
    "seq_length = 10\n",
    "# Learning Rate\n",
    "learning_rate = 0.002\n",
    "# Show stats for every n number of batches\n",
    "show_every_n_batches = 10\n",
    "\n",
    "\"\"\"\n",
    "DON'T MODIFY ANYTHING IN THIS CELL THAT IS BELOW THIS LINE\n",
    "\"\"\"\n",
    "save_dir = './save'"
   ]
  },
  {
   "cell_type": "markdown",
   "metadata": {
    "deletable": true,
    "editable": true
   },
   "source": [
    "### Build the Graph\n",
    "Build the graph using the neural network you implemented."
   ]
  },
  {
   "cell_type": "code",
   "execution_count": 22,
   "metadata": {
    "collapsed": false,
    "deletable": true,
    "editable": true
   },
   "outputs": [
    {
     "name": "stdout",
     "output_type": "stream",
     "text": [
      "<tensorflow.contrib.rnn.python.ops.core_rnn_cell_impl.MultiRNNCell object at 0x7f6c88036978>\n",
      "512\n",
      "Tensor(\"input:0\", shape=(?, ?), dtype=int32)\n",
      "6779\n",
      "128\n",
      "Tensor(\"Variable/read:0\", shape=(6779, 128), dtype=float32)\n",
      "Tensor(\"input:0\", shape=(?, ?), dtype=int32)\n"
     ]
    }
   ],
   "source": [
    "\"\"\"\n",
    "DON'T MODIFY ANYTHING IN THIS CELL\n",
    "\"\"\"\n",
    "from tensorflow.contrib import seq2seq\n",
    "\n",
    "train_graph = tf.Graph()\n",
    "with train_graph.as_default():\n",
    "    vocab_size = len(int_to_vocab)\n",
    "    input_text, targets, lr = get_inputs()\n",
    "    input_data_shape = tf.shape(input_text)\n",
    "    cell, initial_state = get_init_cell(input_data_shape[0], rnn_size)\n",
    "    print(cell)\n",
    "    print(rnn_size)\n",
    "    print(input_text)\n",
    "    print(vocab_size)\n",
    "    print(embed_dim)\n",
    "    logits, final_state = build_nn(cell, rnn_size, input_text, vocab_size, embed_dim)\n",
    "\n",
    "    # Probabilities for generating words\n",
    "    probs = tf.nn.softmax(logits, name='probs')\n",
    "\n",
    "    # Loss function\n",
    "    cost = seq2seq.sequence_loss(\n",
    "        logits,\n",
    "        targets,\n",
    "        tf.ones([input_data_shape[0], input_data_shape[1]]))\n",
    "\n",
    "    # Optimizer\n",
    "    optimizer = tf.train.AdamOptimizer(lr)\n",
    "\n",
    "    # Gradient Clipping\n",
    "    gradients = optimizer.compute_gradients(cost)\n",
    "    capped_gradients = [(tf.clip_by_value(grad, -1., 1.), var) for grad, var in gradients]\n",
    "    train_op = optimizer.apply_gradients(capped_gradients)"
   ]
  },
  {
   "cell_type": "markdown",
   "metadata": {
    "deletable": true,
    "editable": true
   },
   "source": [
    "## Train\n",
    "Train the neural network on the preprocessed data.  If you have a hard time getting a good loss, check the [forms](https://discussions.udacity.com/) to see if anyone is having the same problem."
   ]
  },
  {
   "cell_type": "code",
   "execution_count": 23,
   "metadata": {
    "collapsed": false,
    "deletable": true,
    "editable": true
   },
   "outputs": [
    {
     "name": "stdout",
     "output_type": "stream",
     "text": [
      "Epoch   0 Batch    0/53   train_loss = 8.821\n",
      "Epoch   0 Batch   10/53   train_loss = 7.167\n",
      "Epoch   0 Batch   20/53   train_loss = 6.363\n",
      "Epoch   0 Batch   30/53   train_loss = 6.010\n",
      "Epoch   0 Batch   40/53   train_loss = 5.835\n",
      "Epoch   0 Batch   50/53   train_loss = 5.689\n",
      "Epoch   1 Batch    7/53   train_loss = 5.662\n",
      "Epoch   1 Batch   17/53   train_loss = 5.367\n",
      "Epoch   1 Batch   27/53   train_loss = 5.342\n",
      "Epoch   1 Batch   37/53   train_loss = 5.127\n",
      "Epoch   1 Batch   47/53   train_loss = 5.096\n",
      "Epoch   2 Batch    4/53   train_loss = 5.130\n",
      "Epoch   2 Batch   14/53   train_loss = 5.083\n",
      "Epoch   2 Batch   24/53   train_loss = 4.992\n",
      "Epoch   2 Batch   34/53   train_loss = 4.912\n",
      "Epoch   2 Batch   44/53   train_loss = 4.862\n",
      "Epoch   3 Batch    1/53   train_loss = 4.829\n",
      "Epoch   3 Batch   11/53   train_loss = 4.722\n",
      "Epoch   3 Batch   21/53   train_loss = 4.939\n",
      "Epoch   3 Batch   31/53   train_loss = 4.581\n",
      "Epoch   3 Batch   41/53   train_loss = 4.550\n",
      "Epoch   3 Batch   51/53   train_loss = 4.633\n",
      "Epoch   4 Batch    8/53   train_loss = 4.553\n",
      "Epoch   4 Batch   18/53   train_loss = 4.523\n",
      "Epoch   4 Batch   28/53   train_loss = 4.346\n",
      "Epoch   4 Batch   38/53   train_loss = 4.303\n",
      "Epoch   4 Batch   48/53   train_loss = 4.477\n",
      "Epoch   5 Batch    5/53   train_loss = 4.359\n",
      "Epoch   5 Batch   15/53   train_loss = 4.330\n",
      "Epoch   5 Batch   25/53   train_loss = 4.292\n",
      "Epoch   5 Batch   35/53   train_loss = 4.171\n",
      "Epoch   5 Batch   45/53   train_loss = 4.061\n",
      "Epoch   6 Batch    2/53   train_loss = 4.089\n",
      "Epoch   6 Batch   12/53   train_loss = 4.000\n",
      "Epoch   6 Batch   22/53   train_loss = 3.906\n",
      "Epoch   6 Batch   32/53   train_loss = 3.837\n",
      "Epoch   6 Batch   42/53   train_loss = 3.792\n",
      "Epoch   6 Batch   52/53   train_loss = 3.923\n",
      "Epoch   7 Batch    9/53   train_loss = 3.970\n",
      "Epoch   7 Batch   19/53   train_loss = 3.731\n",
      "Epoch   7 Batch   29/53   train_loss = 3.768\n",
      "Epoch   7 Batch   39/53   train_loss = 3.688\n",
      "Epoch   7 Batch   49/53   train_loss = 3.847\n",
      "Epoch   8 Batch    6/53   train_loss = 3.721\n",
      "Epoch   8 Batch   16/53   train_loss = 3.589\n",
      "Epoch   8 Batch   26/53   train_loss = 3.733\n",
      "Epoch   8 Batch   36/53   train_loss = 3.651\n",
      "Epoch   8 Batch   46/53   train_loss = 3.676\n",
      "Epoch   9 Batch    3/53   train_loss = 3.610\n",
      "Epoch   9 Batch   13/53   train_loss = 3.666\n",
      "Epoch   9 Batch   23/53   train_loss = 3.564\n",
      "Epoch   9 Batch   33/53   train_loss = 3.516\n",
      "Epoch   9 Batch   43/53   train_loss = 3.459\n",
      "Epoch  10 Batch    0/53   train_loss = 3.474\n",
      "Epoch  10 Batch   10/53   train_loss = 3.445\n",
      "Epoch  10 Batch   20/53   train_loss = 3.412\n",
      "Epoch  10 Batch   30/53   train_loss = 3.382\n",
      "Epoch  10 Batch   40/53   train_loss = 3.348\n",
      "Epoch  10 Batch   50/53   train_loss = 3.464\n",
      "Epoch  11 Batch    7/53   train_loss = 3.476\n",
      "Epoch  11 Batch   17/53   train_loss = 3.206\n",
      "Epoch  11 Batch   27/53   train_loss = 3.190\n",
      "Epoch  11 Batch   37/53   train_loss = 3.244\n",
      "Epoch  11 Batch   47/53   train_loss = 3.334\n",
      "Epoch  12 Batch    4/53   train_loss = 3.331\n",
      "Epoch  12 Batch   14/53   train_loss = 3.283\n",
      "Epoch  12 Batch   24/53   train_loss = 2.948\n",
      "Epoch  12 Batch   34/53   train_loss = 3.104\n",
      "Epoch  12 Batch   44/53   train_loss = 3.188\n",
      "Epoch  13 Batch    1/53   train_loss = 3.165\n",
      "Epoch  13 Batch   11/53   train_loss = 3.162\n",
      "Epoch  13 Batch   21/53   train_loss = 2.987\n",
      "Epoch  13 Batch   31/53   train_loss = 2.898\n",
      "Epoch  13 Batch   41/53   train_loss = 2.899\n",
      "Epoch  13 Batch   51/53   train_loss = 3.085\n",
      "Epoch  14 Batch    8/53   train_loss = 3.068\n",
      "Epoch  14 Batch   18/53   train_loss = 3.040\n",
      "Epoch  14 Batch   28/53   train_loss = 2.774\n",
      "Epoch  14 Batch   38/53   train_loss = 2.977\n",
      "Epoch  14 Batch   48/53   train_loss = 2.963\n",
      "Epoch  15 Batch    5/53   train_loss = 2.983\n",
      "Epoch  15 Batch   15/53   train_loss = 3.014\n",
      "Epoch  15 Batch   25/53   train_loss = 2.901\n",
      "Epoch  15 Batch   35/53   train_loss = 2.834\n",
      "Epoch  15 Batch   45/53   train_loss = 2.903\n",
      "Epoch  16 Batch    2/53   train_loss = 2.923\n",
      "Epoch  16 Batch   12/53   train_loss = 2.922\n",
      "Epoch  16 Batch   22/53   train_loss = 2.822\n",
      "Epoch  16 Batch   32/53   train_loss = 2.769\n",
      "Epoch  16 Batch   42/53   train_loss = 2.684\n",
      "Epoch  16 Batch   52/53   train_loss = 2.877\n",
      "Epoch  17 Batch    9/53   train_loss = 2.816\n",
      "Epoch  17 Batch   19/53   train_loss = 2.819\n",
      "Epoch  17 Batch   29/53   train_loss = 2.712\n",
      "Epoch  17 Batch   39/53   train_loss = 2.599\n",
      "Epoch  17 Batch   49/53   train_loss = 2.756\n",
      "Epoch  18 Batch    6/53   train_loss = 2.687\n",
      "Epoch  18 Batch   16/53   train_loss = 2.719\n",
      "Epoch  18 Batch   26/53   train_loss = 2.596\n",
      "Epoch  18 Batch   36/53   train_loss = 2.538\n",
      "Epoch  18 Batch   46/53   train_loss = 2.629\n",
      "Epoch  19 Batch    3/53   train_loss = 2.564\n",
      "Epoch  19 Batch   13/53   train_loss = 2.761\n",
      "Epoch  19 Batch   23/53   train_loss = 2.597\n",
      "Epoch  19 Batch   33/53   train_loss = 2.443\n",
      "Epoch  19 Batch   43/53   train_loss = 2.558\n",
      "Epoch  20 Batch    0/53   train_loss = 2.603\n",
      "Epoch  20 Batch   10/53   train_loss = 2.490\n",
      "Epoch  20 Batch   20/53   train_loss = 2.497\n",
      "Epoch  20 Batch   30/53   train_loss = 2.425\n",
      "Epoch  20 Batch   40/53   train_loss = 2.319\n",
      "Epoch  20 Batch   50/53   train_loss = 2.473\n",
      "Epoch  21 Batch    7/53   train_loss = 2.426\n",
      "Epoch  21 Batch   17/53   train_loss = 2.349\n",
      "Epoch  21 Batch   27/53   train_loss = 2.245\n",
      "Epoch  21 Batch   37/53   train_loss = 2.170\n",
      "Epoch  21 Batch   47/53   train_loss = 2.368\n",
      "Epoch  22 Batch    4/53   train_loss = 2.196\n",
      "Epoch  22 Batch   14/53   train_loss = 2.345\n",
      "Epoch  22 Batch   24/53   train_loss = 2.138\n",
      "Epoch  22 Batch   34/53   train_loss = 2.007\n",
      "Epoch  22 Batch   44/53   train_loss = 2.123\n",
      "Epoch  23 Batch    1/53   train_loss = 2.205\n",
      "Epoch  23 Batch   11/53   train_loss = 2.171\n",
      "Epoch  23 Batch   21/53   train_loss = 2.055\n",
      "Epoch  23 Batch   31/53   train_loss = 1.938\n",
      "Epoch  23 Batch   41/53   train_loss = 1.765\n",
      "Epoch  23 Batch   51/53   train_loss = 1.938\n",
      "Epoch  24 Batch    8/53   train_loss = 2.003\n",
      "Epoch  24 Batch   18/53   train_loss = 2.007\n",
      "Epoch  24 Batch   28/53   train_loss = 1.950\n",
      "Epoch  24 Batch   38/53   train_loss = 1.808\n",
      "Epoch  24 Batch   48/53   train_loss = 1.821\n",
      "Epoch  25 Batch    5/53   train_loss = 2.028\n",
      "Epoch  25 Batch   15/53   train_loss = 1.957\n",
      "Epoch  25 Batch   25/53   train_loss = 1.905\n",
      "Epoch  25 Batch   35/53   train_loss = 1.701\n",
      "Epoch  25 Batch   45/53   train_loss = 1.758\n",
      "Epoch  26 Batch    2/53   train_loss = 1.902\n",
      "Epoch  26 Batch   12/53   train_loss = 1.913\n",
      "Epoch  26 Batch   22/53   train_loss = 1.771\n",
      "Epoch  26 Batch   32/53   train_loss = 1.685\n",
      "Epoch  26 Batch   42/53   train_loss = 1.547\n",
      "Epoch  26 Batch   52/53   train_loss = 1.712\n",
      "Epoch  27 Batch    9/53   train_loss = 1.650\n",
      "Epoch  27 Batch   19/53   train_loss = 1.762\n",
      "Epoch  27 Batch   29/53   train_loss = 1.663\n",
      "Epoch  27 Batch   39/53   train_loss = 1.509\n",
      "Epoch  27 Batch   49/53   train_loss = 1.596\n",
      "Epoch  28 Batch    6/53   train_loss = 1.588\n",
      "Epoch  28 Batch   16/53   train_loss = 1.697\n",
      "Epoch  28 Batch   26/53   train_loss = 1.467\n",
      "Epoch  28 Batch   36/53   train_loss = 1.509\n",
      "Epoch  28 Batch   46/53   train_loss = 1.557\n",
      "Epoch  29 Batch    3/53   train_loss = 1.503\n",
      "Epoch  29 Batch   13/53   train_loss = 1.680\n",
      "Epoch  29 Batch   23/53   train_loss = 1.568\n",
      "Epoch  29 Batch   33/53   train_loss = 1.496\n",
      "Epoch  29 Batch   43/53   train_loss = 1.375\n",
      "Epoch  30 Batch    0/53   train_loss = 1.495\n",
      "Epoch  30 Batch   10/53   train_loss = 1.513\n",
      "Epoch  30 Batch   20/53   train_loss = 1.467\n",
      "Epoch  30 Batch   30/53   train_loss = 1.459\n",
      "Epoch  30 Batch   40/53   train_loss = 1.346\n",
      "Epoch  30 Batch   50/53   train_loss = 1.393\n",
      "Epoch  31 Batch    7/53   train_loss = 1.341\n",
      "Epoch  31 Batch   17/53   train_loss = 1.408\n",
      "Epoch  31 Batch   27/53   train_loss = 1.405\n",
      "Epoch  31 Batch   37/53   train_loss = 1.440\n",
      "Epoch  31 Batch   47/53   train_loss = 1.391\n",
      "Epoch  32 Batch    4/53   train_loss = 1.386\n",
      "Epoch  32 Batch   14/53   train_loss = 1.406\n",
      "Epoch  32 Batch   24/53   train_loss = 1.367\n",
      "Epoch  32 Batch   34/53   train_loss = 1.330\n",
      "Epoch  32 Batch   44/53   train_loss = 1.257\n",
      "Epoch  33 Batch    1/53   train_loss = 1.314\n",
      "Epoch  33 Batch   11/53   train_loss = 1.329\n",
      "Epoch  33 Batch   21/53   train_loss = 1.289\n",
      "Epoch  33 Batch   31/53   train_loss = 1.344\n",
      "Epoch  33 Batch   41/53   train_loss = 1.249\n",
      "Epoch  33 Batch   51/53   train_loss = 1.168\n",
      "Epoch  34 Batch    8/53   train_loss = 1.275\n",
      "Epoch  34 Batch   18/53   train_loss = 1.343\n",
      "Epoch  34 Batch   28/53   train_loss = 1.305\n",
      "Epoch  34 Batch   38/53   train_loss = 1.308\n",
      "Epoch  34 Batch   48/53   train_loss = 1.183\n",
      "Epoch  35 Batch    5/53   train_loss = 1.251\n",
      "Epoch  35 Batch   15/53   train_loss = 1.224\n",
      "Epoch  35 Batch   25/53   train_loss = 1.258\n",
      "Epoch  35 Batch   35/53   train_loss = 1.196\n",
      "Epoch  35 Batch   45/53   train_loss = 1.180\n",
      "Epoch  36 Batch    2/53   train_loss = 1.180\n",
      "Epoch  36 Batch   12/53   train_loss = 1.208\n",
      "Epoch  36 Batch   22/53   train_loss = 1.224\n",
      "Epoch  36 Batch   32/53   train_loss = 1.132\n",
      "Epoch  36 Batch   42/53   train_loss = 1.117\n",
      "Epoch  36 Batch   52/53   train_loss = 1.106\n",
      "Epoch  37 Batch    9/53   train_loss = 1.061\n",
      "Epoch  37 Batch   19/53   train_loss = 1.239\n",
      "Epoch  37 Batch   29/53   train_loss = 1.150\n",
      "Epoch  37 Batch   39/53   train_loss = 1.053\n",
      "Epoch  37 Batch   49/53   train_loss = 1.090\n",
      "Epoch  38 Batch    6/53   train_loss = 1.084\n",
      "Epoch  38 Batch   16/53   train_loss = 1.154\n",
      "Epoch  38 Batch   26/53   train_loss = 1.066\n",
      "Epoch  38 Batch   36/53   train_loss = 1.115\n",
      "Epoch  38 Batch   46/53   train_loss = 1.075\n",
      "Epoch  39 Batch    3/53   train_loss = 1.062\n",
      "Epoch  39 Batch   13/53   train_loss = 1.064\n",
      "Epoch  39 Batch   23/53   train_loss = 1.077\n",
      "Epoch  39 Batch   33/53   train_loss = 1.055\n",
      "Epoch  39 Batch   43/53   train_loss = 1.054\n",
      "Epoch  40 Batch    0/53   train_loss = 0.988\n",
      "Epoch  40 Batch   10/53   train_loss = 1.035\n",
      "Epoch  40 Batch   20/53   train_loss = 1.077\n",
      "Epoch  40 Batch   30/53   train_loss = 1.057\n",
      "Epoch  40 Batch   40/53   train_loss = 1.055\n",
      "Epoch  40 Batch   50/53   train_loss = 1.063\n",
      "Epoch  41 Batch    7/53   train_loss = 1.018\n",
      "Epoch  41 Batch   17/53   train_loss = 0.961\n",
      "Epoch  41 Batch   27/53   train_loss = 1.142\n",
      "Epoch  41 Batch   37/53   train_loss = 1.028\n",
      "Epoch  41 Batch   47/53   train_loss = 0.986\n",
      "Epoch  42 Batch    4/53   train_loss = 1.030\n",
      "Epoch  42 Batch   14/53   train_loss = 1.025\n",
      "Epoch  42 Batch   24/53   train_loss = 0.971\n",
      "Epoch  42 Batch   34/53   train_loss = 1.010\n",
      "Epoch  42 Batch   44/53   train_loss = 0.978\n",
      "Epoch  43 Batch    1/53   train_loss = 0.937\n",
      "Epoch  43 Batch   11/53   train_loss = 0.958\n",
      "Epoch  43 Batch   21/53   train_loss = 0.930\n",
      "Epoch  43 Batch   31/53   train_loss = 0.994\n",
      "Epoch  43 Batch   41/53   train_loss = 0.954\n",
      "Epoch  43 Batch   51/53   train_loss = 0.914\n",
      "Epoch  44 Batch    8/53   train_loss = 0.923\n",
      "Epoch  44 Batch   18/53   train_loss = 0.960\n",
      "Epoch  44 Batch   28/53   train_loss = 0.971\n",
      "Epoch  44 Batch   38/53   train_loss = 1.037\n",
      "Epoch  44 Batch   48/53   train_loss = 0.959\n",
      "Epoch  45 Batch    5/53   train_loss = 0.917\n",
      "Epoch  45 Batch   15/53   train_loss = 0.869\n",
      "Epoch  45 Batch   25/53   train_loss = 0.957\n",
      "Epoch  45 Batch   35/53   train_loss = 0.947\n",
      "Epoch  45 Batch   45/53   train_loss = 0.960\n",
      "Epoch  46 Batch    2/53   train_loss = 0.901\n",
      "Epoch  46 Batch   12/53   train_loss = 0.926\n",
      "Epoch  46 Batch   22/53   train_loss = 0.907\n",
      "Epoch  46 Batch   32/53   train_loss = 0.906\n",
      "Epoch  46 Batch   42/53   train_loss = 0.884\n",
      "Epoch  46 Batch   52/53   train_loss = 0.926\n",
      "Epoch  47 Batch    9/53   train_loss = 0.822\n",
      "Epoch  47 Batch   19/53   train_loss = 0.928\n",
      "Epoch  47 Batch   29/53   train_loss = 0.887\n",
      "Epoch  47 Batch   39/53   train_loss = 0.860\n",
      "Epoch  47 Batch   49/53   train_loss = 0.879\n",
      "Epoch  48 Batch    6/53   train_loss = 0.837\n",
      "Epoch  48 Batch   16/53   train_loss = 0.908\n",
      "Epoch  48 Batch   26/53   train_loss = 0.874\n",
      "Epoch  48 Batch   36/53   train_loss = 0.856\n",
      "Epoch  48 Batch   46/53   train_loss = 0.844\n",
      "Epoch  49 Batch    3/53   train_loss = 0.879\n",
      "Epoch  49 Batch   13/53   train_loss = 0.879\n",
      "Epoch  49 Batch   23/53   train_loss = 0.811\n",
      "Epoch  49 Batch   33/53   train_loss = 0.829\n",
      "Epoch  49 Batch   43/53   train_loss = 0.859\n",
      "Epoch  50 Batch    0/53   train_loss = 0.868\n",
      "Epoch  50 Batch   10/53   train_loss = 0.842\n",
      "Epoch  50 Batch   20/53   train_loss = 0.798\n",
      "Epoch  50 Batch   30/53   train_loss = 0.850\n",
      "Epoch  50 Batch   40/53   train_loss = 0.844\n",
      "Epoch  50 Batch   50/53   train_loss = 0.791\n",
      "Epoch  51 Batch    7/53   train_loss = 0.819\n",
      "Epoch  51 Batch   17/53   train_loss = 0.777\n",
      "Epoch  51 Batch   27/53   train_loss = 0.850\n",
      "Epoch  51 Batch   37/53   train_loss = 0.847\n",
      "Epoch  51 Batch   47/53   train_loss = 0.810\n",
      "Epoch  52 Batch    4/53   train_loss = 0.807\n",
      "Epoch  52 Batch   14/53   train_loss = 0.826\n",
      "Epoch  52 Batch   24/53   train_loss = 0.710\n",
      "Epoch  52 Batch   34/53   train_loss = 0.784\n",
      "Epoch  52 Batch   44/53   train_loss = 0.782\n",
      "Epoch  53 Batch    1/53   train_loss = 0.783\n",
      "Epoch  53 Batch   11/53   train_loss = 0.757\n",
      "Epoch  53 Batch   21/53   train_loss = 0.723\n",
      "Epoch  53 Batch   31/53   train_loss = 0.757\n",
      "Epoch  53 Batch   41/53   train_loss = 0.784\n",
      "Epoch  53 Batch   51/53   train_loss = 0.735\n",
      "Epoch  54 Batch    8/53   train_loss = 0.766\n",
      "Epoch  54 Batch   18/53   train_loss = 0.774\n",
      "Epoch  54 Batch   28/53   train_loss = 0.741\n",
      "Epoch  54 Batch   38/53   train_loss = 0.850\n",
      "Epoch  54 Batch   48/53   train_loss = 0.785\n",
      "Epoch  55 Batch    5/53   train_loss = 0.860\n",
      "Epoch  55 Batch   15/53   train_loss = 0.778\n",
      "Epoch  55 Batch   25/53   train_loss = 0.807\n",
      "Epoch  55 Batch   35/53   train_loss = 0.729\n",
      "Epoch  55 Batch   45/53   train_loss = 0.785\n",
      "Epoch  56 Batch    2/53   train_loss = 0.795\n",
      "Epoch  56 Batch   12/53   train_loss = 0.770\n",
      "Epoch  56 Batch   22/53   train_loss = 0.737\n",
      "Epoch  56 Batch   32/53   train_loss = 0.670\n",
      "Epoch  56 Batch   42/53   train_loss = 0.774\n",
      "Epoch  56 Batch   52/53   train_loss = 0.811\n",
      "Epoch  57 Batch    9/53   train_loss = 0.678\n",
      "Epoch  57 Batch   19/53   train_loss = 0.751\n",
      "Epoch  57 Batch   29/53   train_loss = 0.731\n",
      "Epoch  57 Batch   39/53   train_loss = 0.716\n",
      "Epoch  57 Batch   49/53   train_loss = 0.753\n",
      "Epoch  58 Batch    6/53   train_loss = 0.775\n",
      "Epoch  58 Batch   16/53   train_loss = 0.702\n",
      "Epoch  58 Batch   26/53   train_loss = 0.678\n",
      "Epoch  58 Batch   36/53   train_loss = 0.758\n",
      "Epoch  58 Batch   46/53   train_loss = 0.710\n",
      "Epoch  59 Batch    3/53   train_loss = 0.740\n",
      "Epoch  59 Batch   13/53   train_loss = 0.748\n",
      "Epoch  59 Batch   23/53   train_loss = 0.682\n",
      "Epoch  59 Batch   33/53   train_loss = 0.713\n",
      "Epoch  59 Batch   43/53   train_loss = 0.709\n",
      "Epoch  60 Batch    0/53   train_loss = 0.750\n",
      "Epoch  60 Batch   10/53   train_loss = 0.721\n",
      "Epoch  60 Batch   20/53   train_loss = 0.718\n",
      "Epoch  60 Batch   30/53   train_loss = 0.792\n",
      "Epoch  60 Batch   40/53   train_loss = 0.732\n",
      "Epoch  60 Batch   50/53   train_loss = 0.708\n",
      "Epoch  61 Batch    7/53   train_loss = 0.688\n",
      "Epoch  61 Batch   17/53   train_loss = 0.700\n",
      "Epoch  61 Batch   27/53   train_loss = 0.790\n",
      "Epoch  61 Batch   37/53   train_loss = 0.673\n",
      "Epoch  61 Batch   47/53   train_loss = 0.685\n",
      "Epoch  62 Batch    4/53   train_loss = 0.686\n",
      "Epoch  62 Batch   14/53   train_loss = 0.756\n",
      "Epoch  62 Batch   24/53   train_loss = 0.627\n",
      "Epoch  62 Batch   34/53   train_loss = 0.696\n",
      "Epoch  62 Batch   44/53   train_loss = 0.703\n",
      "Epoch  63 Batch    1/53   train_loss = 0.709\n",
      "Epoch  63 Batch   11/53   train_loss = 0.686\n",
      "Epoch  63 Batch   21/53   train_loss = 0.695\n",
      "Epoch  63 Batch   31/53   train_loss = 0.683\n",
      "Epoch  63 Batch   41/53   train_loss = 0.662\n",
      "Epoch  63 Batch   51/53   train_loss = 0.675\n",
      "Epoch  64 Batch    8/53   train_loss = 0.660\n",
      "Epoch  64 Batch   18/53   train_loss = 0.639\n",
      "Epoch  64 Batch   28/53   train_loss = 0.659\n",
      "Epoch  64 Batch   38/53   train_loss = 0.749\n",
      "Epoch  64 Batch   48/53   train_loss = 0.693\n",
      "Epoch  65 Batch    5/53   train_loss = 0.715\n",
      "Epoch  65 Batch   15/53   train_loss = 0.686\n",
      "Epoch  65 Batch   25/53   train_loss = 0.772\n",
      "Epoch  65 Batch   35/53   train_loss = 0.647\n",
      "Epoch  65 Batch   45/53   train_loss = 0.701\n",
      "Epoch  66 Batch    2/53   train_loss = 0.659\n",
      "Epoch  66 Batch   12/53   train_loss = 0.733\n",
      "Epoch  66 Batch   22/53   train_loss = 0.702\n",
      "Epoch  66 Batch   32/53   train_loss = 0.634\n",
      "Epoch  66 Batch   42/53   train_loss = 0.669\n",
      "Epoch  66 Batch   52/53   train_loss = 0.715\n",
      "Epoch  67 Batch    9/53   train_loss = 0.635\n",
      "Epoch  67 Batch   19/53   train_loss = 0.652\n",
      "Epoch  67 Batch   29/53   train_loss = 0.671\n",
      "Epoch  67 Batch   39/53   train_loss = 0.629\n",
      "Epoch  67 Batch   49/53   train_loss = 0.724\n",
      "Epoch  68 Batch    6/53   train_loss = 0.629\n",
      "Epoch  68 Batch   16/53   train_loss = 0.624\n",
      "Epoch  68 Batch   26/53   train_loss = 0.613\n",
      "Epoch  68 Batch   36/53   train_loss = 0.698\n",
      "Epoch  68 Batch   46/53   train_loss = 0.664\n",
      "Epoch  69 Batch    3/53   train_loss = 0.685\n",
      "Epoch  69 Batch   13/53   train_loss = 0.658\n",
      "Epoch  69 Batch   23/53   train_loss = 0.654\n",
      "Epoch  69 Batch   33/53   train_loss = 0.634\n",
      "Epoch  69 Batch   43/53   train_loss = 0.637\n",
      "Epoch  70 Batch    0/53   train_loss = 0.661\n",
      "Epoch  70 Batch   10/53   train_loss = 0.598\n",
      "Epoch  70 Batch   20/53   train_loss = 0.628\n",
      "Epoch  70 Batch   30/53   train_loss = 0.653\n",
      "Epoch  70 Batch   40/53   train_loss = 0.674\n",
      "Epoch  70 Batch   50/53   train_loss = 0.662\n",
      "Epoch  71 Batch    7/53   train_loss = 0.625\n",
      "Epoch  71 Batch   17/53   train_loss = 0.623\n",
      "Epoch  71 Batch   27/53   train_loss = 0.672\n",
      "Epoch  71 Batch   37/53   train_loss = 0.639\n",
      "Epoch  71 Batch   47/53   train_loss = 0.629\n",
      "Epoch  72 Batch    4/53   train_loss = 0.677\n",
      "Epoch  72 Batch   14/53   train_loss = 0.638\n",
      "Epoch  72 Batch   24/53   train_loss = 0.609\n",
      "Epoch  72 Batch   34/53   train_loss = 0.631\n",
      "Epoch  72 Batch   44/53   train_loss = 0.624\n",
      "Epoch  73 Batch    1/53   train_loss = 0.649\n",
      "Epoch  73 Batch   11/53   train_loss = 0.651\n",
      "Epoch  73 Batch   21/53   train_loss = 0.619\n",
      "Epoch  73 Batch   31/53   train_loss = 0.634\n",
      "Epoch  73 Batch   41/53   train_loss = 0.606\n",
      "Epoch  73 Batch   51/53   train_loss = 0.613\n",
      "Epoch  74 Batch    8/53   train_loss = 0.661\n",
      "Epoch  74 Batch   18/53   train_loss = 0.631\n",
      "Epoch  74 Batch   28/53   train_loss = 0.611\n",
      "Epoch  74 Batch   38/53   train_loss = 0.667\n",
      "Epoch  74 Batch   48/53   train_loss = 0.603\n",
      "Model Trained and Saved\n"
     ]
    }
   ],
   "source": [
    "\"\"\"\n",
    "DON'T MODIFY ANYTHING IN THIS CELL\n",
    "\"\"\"\n",
    "batches = get_batches(int_text, batch_size, seq_length)\n",
    "\n",
    "with tf.Session(graph=train_graph) as sess:\n",
    "    sess.run(tf.global_variables_initializer())\n",
    "\n",
    "    for epoch_i in range(num_epochs):\n",
    "        state = sess.run(initial_state, {input_text: batches[0][0]})\n",
    "\n",
    "        for batch_i, (x, y) in enumerate(batches):\n",
    "            feed = {\n",
    "                input_text: x,\n",
    "                targets: y,\n",
    "                initial_state: state,\n",
    "                lr: learning_rate}\n",
    "            train_loss, state, _ = sess.run([cost, final_state, train_op], feed)\n",
    "\n",
    "            # Show every <show_every_n_batches> batches\n",
    "            if (epoch_i * len(batches) + batch_i) % show_every_n_batches == 0:\n",
    "                print('Epoch {:>3} Batch {:>4}/{}   train_loss = {:.3f}'.format(\n",
    "                    epoch_i,\n",
    "                    batch_i,\n",
    "                    len(batches),\n",
    "                    train_loss))\n",
    "\n",
    "    # Save Model\n",
    "    saver = tf.train.Saver()\n",
    "    saver.save(sess, save_dir)\n",
    "    print('Model Trained and Saved')"
   ]
  },
  {
   "cell_type": "markdown",
   "metadata": {
    "deletable": true,
    "editable": true
   },
   "source": [
    "## Save Parameters\n",
    "Save `seq_length` and `save_dir` for generating a new TV script."
   ]
  },
  {
   "cell_type": "code",
   "execution_count": 24,
   "metadata": {
    "collapsed": false,
    "deletable": true,
    "editable": true
   },
   "outputs": [],
   "source": [
    "\"\"\"\n",
    "DON'T MODIFY ANYTHING IN THIS CELL\n",
    "\"\"\"\n",
    "# Save parameters for checkpoint\n",
    "helper.save_params((seq_length, save_dir))"
   ]
  },
  {
   "cell_type": "markdown",
   "metadata": {
    "deletable": true,
    "editable": true
   },
   "source": [
    "# Checkpoint"
   ]
  },
  {
   "cell_type": "code",
   "execution_count": 25,
   "metadata": {
    "collapsed": false,
    "deletable": true,
    "editable": true
   },
   "outputs": [],
   "source": [
    "\"\"\"\n",
    "DON'T MODIFY ANYTHING IN THIS CELL\n",
    "\"\"\"\n",
    "import tensorflow as tf\n",
    "import numpy as np\n",
    "import helper\n",
    "import problem_unittests as tests\n",
    "\n",
    "_, vocab_to_int, int_to_vocab, token_dict = helper.load_preprocess()\n",
    "seq_length, load_dir = helper.load_params()"
   ]
  },
  {
   "cell_type": "markdown",
   "metadata": {
    "deletable": true,
    "editable": true
   },
   "source": [
    "## Implement Generate Functions\n",
    "### Get Tensors\n",
    "Get tensors from `loaded_graph` using the function [`get_tensor_by_name()`](https://www.tensorflow.org/api_docs/python/tf/Graph#get_tensor_by_name).  Get the tensors using the following names:\n",
    "- \"input:0\"\n",
    "- \"initial_state:0\"\n",
    "- \"final_state:0\"\n",
    "- \"probs:0\"\n",
    "\n",
    "Return the tensors in the following tuple `(InputTensor, InitialStateTensor, FinalStateTensor, ProbsTensor)` "
   ]
  },
  {
   "cell_type": "code",
   "execution_count": 28,
   "metadata": {
    "collapsed": false,
    "deletable": true,
    "editable": true
   },
   "outputs": [
    {
     "name": "stdout",
     "output_type": "stream",
     "text": [
      "Tests Passed\n"
     ]
    }
   ],
   "source": [
    "def get_tensors(loaded_graph):\n",
    "    \"\"\"\n",
    "    Get input, initial state, final state, and probabilities tensor from <loaded_graph>\n",
    "    :param loaded_graph: TensorFlow graph loaded from file\n",
    "    :return: Tuple (InputTensor, InitialStateTensor, FinalStateTensor, ProbsTensor)\n",
    "    \"\"\"\n",
    "    # TODO: Implement Function\n",
    "    return \\\n",
    "        loaded_graph.get_tensor_by_name(\"input:0\"), \\\n",
    "        loaded_graph.get_tensor_by_name(\"initial_state:0\"), \\\n",
    "        loaded_graph.get_tensor_by_name(\"final_state:0\"), \\\n",
    "        loaded_graph.get_tensor_by_name(\"probs:0\")\n",
    "\n",
    "\n",
    "\"\"\"\n",
    "DON'T MODIFY ANYTHING IN THIS CELL THAT IS BELOW THIS LINE\n",
    "\"\"\"\n",
    "tests.test_get_tensors(get_tensors)"
   ]
  },
  {
   "cell_type": "markdown",
   "metadata": {
    "deletable": true,
    "editable": true
   },
   "source": [
    "### Choose Word\n",
    "Implement the `pick_word()` function to select the next word using `probabilities`."
   ]
  },
  {
   "cell_type": "code",
   "execution_count": 33,
   "metadata": {
    "collapsed": false,
    "deletable": true,
    "editable": true
   },
   "outputs": [
    {
     "name": "stdout",
     "output_type": "stream",
     "text": [
      "Tests Passed\n"
     ]
    }
   ],
   "source": [
    "def pick_word(probabilities, int_to_vocab):\n",
    "    \"\"\"\n",
    "    Pick the next word in the generated text\n",
    "    :param probabilities: Probabilites of the next word\n",
    "    :param int_to_vocab: Dictionary of word ids as the keys and words as the values\n",
    "    :return: String of the predicted word\n",
    "    \"\"\"\n",
    "    # TODO: Implement Function\n",
    "    return int_to_vocab[np.argmax(probabilities)]\n",
    "\n",
    "\n",
    "\"\"\"\n",
    "DON'T MODIFY ANYTHING IN THIS CELL THAT IS BELOW THIS LINE\n",
    "\"\"\"\n",
    "tests.test_pick_word(pick_word)"
   ]
  },
  {
   "cell_type": "markdown",
   "metadata": {
    "deletable": true,
    "editable": true
   },
   "source": [
    "## Generate TV Script\n",
    "This will generate the TV script for you.  Set `gen_length` to the length of TV script you want to generate."
   ]
  },
  {
   "cell_type": "code",
   "execution_count": 34,
   "metadata": {
    "collapsed": false,
    "deletable": true,
    "editable": true
   },
   "outputs": [
    {
     "name": "stdout",
     "output_type": "stream",
     "text": [
      "moe_szyslak:(into phone) gotcha ya down for forty bucks?\n",
      "homer_simpson:(warmly) those me? i can't not hate other problems, i never have to come into the alley!\n",
      "homer_simpson:(sotto) guys, can i have you'd stand about my head.\n",
      "moe_szyslak:(exasperated sigh) i hear you, snail trail!\n",
      "moe_szyslak: now, homer who are a little more sensitivity in the wall.\n",
      "homer_simpson: i had to do for as moe's here?\n",
      "moe_szyslak: no.\n",
      "moe_szyslak:(eyeing homer's ass) oh yeah, sweet mother of the super book) is the good, you've ever like to sell this.\n",
      "agent_johnson: oh for me.\n",
      "\n",
      "\n",
      "moe_szyslak: hey, hey, hey, get that outta here.\n",
      "lenny_leonard: i heartily endorse you little here all right.\n",
      "carl_carlson: hey, thanks.\n",
      "moe_szyslak: oh, hey, listen, i've learned a little way. i can get the train to yellow?\n",
      "carl_carlson: yeah, but you'd send a beer, i just wanted to get rid of the\n"
     ]
    }
   ],
   "source": [
    "gen_length = 200\n",
    "# homer_simpson, moe_szyslak, or Barney_Gumble\n",
    "prime_word = 'moe_szyslak'\n",
    "\n",
    "\"\"\"\n",
    "DON'T MODIFY ANYTHING IN THIS CELL THAT IS BELOW THIS LINE\n",
    "\"\"\"\n",
    "loaded_graph = tf.Graph()\n",
    "with tf.Session(graph=loaded_graph) as sess:\n",
    "    # Load saved model\n",
    "    loader = tf.train.import_meta_graph(load_dir + '.meta')\n",
    "    loader.restore(sess, load_dir)\n",
    "\n",
    "    # Get Tensors from loaded model\n",
    "    input_text, initial_state, final_state, probs = get_tensors(loaded_graph)\n",
    "\n",
    "    # Sentences generation setup\n",
    "    gen_sentences = [prime_word + ':']\n",
    "    prev_state = sess.run(initial_state, {input_text: np.array([[1]])})\n",
    "\n",
    "    # Generate sentences\n",
    "    for n in range(gen_length):\n",
    "        # Dynamic Input\n",
    "        dyn_input = [[vocab_to_int[word] for word in gen_sentences[-seq_length:]]]\n",
    "        dyn_seq_length = len(dyn_input[0])\n",
    "\n",
    "        # Get Prediction\n",
    "        probabilities, prev_state = sess.run(\n",
    "            [probs, final_state],\n",
    "            {input_text: dyn_input, initial_state: prev_state})\n",
    "        \n",
    "        pred_word = pick_word(probabilities[dyn_seq_length-1], int_to_vocab)\n",
    "\n",
    "        gen_sentences.append(pred_word)\n",
    "    \n",
    "    # Remove tokens\n",
    "    tv_script = ' '.join(gen_sentences)\n",
    "    for key, token in token_dict.items():\n",
    "        ending = ' ' if key in ['\\n', '(', '\"'] else ''\n",
    "        tv_script = tv_script.replace(' ' + token.lower(), key)\n",
    "    tv_script = tv_script.replace('\\n ', '\\n')\n",
    "    tv_script = tv_script.replace('( ', '(')\n",
    "        \n",
    "    print(tv_script)"
   ]
  },
  {
   "cell_type": "markdown",
   "metadata": {
    "deletable": true,
    "editable": true
   },
   "source": [
    "# The TV Script is Nonsensical\n",
    "It's ok if the TV script doesn't make any sense.  We trained on less than a megabyte of text.  In order to get good results, you'll have to use a smaller vocabulary or get more data.  Luckly there's more data!  As we mentioned in the begging of this project, this is a subset of [another dataset](https://www.kaggle.com/wcukierski/the-simpsons-by-the-data).  We didn't have you train on all the data, because that would take too long.  However, you are free to train your neural network on all the data.  After you complete the project, of course.\n",
    "# Submitting This Project\n",
    "When submitting this project, make sure to run all the cells before saving the notebook. Save the notebook file as \"dlnd_tv_script_generation.ipynb\" and save it as a HTML file under \"File\" -> \"Download as\". Include the \"helper.py\" and \"problem_unittests.py\" files in your submission."
   ]
  }
 ],
 "metadata": {
  "kernelspec": {
   "display_name": "Python 3",
   "language": "python",
   "name": "python3"
  },
  "language_info": {
   "codemirror_mode": {
    "name": "ipython",
    "version": 3
   },
   "file_extension": ".py",
   "mimetype": "text/x-python",
   "name": "python",
   "nbconvert_exporter": "python",
   "pygments_lexer": "ipython3",
   "version": "3.5.2"
  },
  "widgets": {
   "state": {},
   "version": "1.1.2"
  }
 },
 "nbformat": 4,
 "nbformat_minor": 0
}
